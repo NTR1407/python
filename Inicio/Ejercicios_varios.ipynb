{
 "metadata": {
  "language_info": {
   "codemirror_mode": {
    "name": "ipython",
    "version": 3
   },
   "file_extension": ".py",
   "mimetype": "text/x-python",
   "name": "python",
   "nbconvert_exporter": "python",
   "pygments_lexer": "ipython3",
   "version": "3.7.6-final"
  },
  "orig_nbformat": 2,
  "kernelspec": {
   "name": "python3",
   "display_name": "Python 3",
   "language": "python"
  }
 },
 "nbformat": 4,
 "nbformat_minor": 2,
 "cells": [
  {
   "source": [
    "Ejercicio 1:\n",
    "\n",
    "Mi coche gasta 5.5 litros cada 100 km y mi trabajo se encuentra a 15 km de casa. ¿cuanto me gastare en gasolina en 20 dias laborales si el precio es 1.12 cada litro?"
   ],
   "cell_type": "markdown",
   "metadata": {}
  },
  {
   "cell_type": "code",
   "execution_count": 7,
   "metadata": {},
   "outputs": [
    {
     "output_type": "stream",
     "name": "stdout",
     "text": [
      "30\n600\n33.0\n"
     ]
    }
   ],
   "source": [
    "gasto = 5.5\n",
    "distancia1 = 100\n",
    "distancia2 = 15\n",
    "dias = 20\n",
    "precio = 1.12\n",
    "\n",
    "#Pensando en la ida y la vuelta se multiplica la distancia2 * 2\n",
    "distancia2 *= 2\n",
    "print(distancia2)\n",
    "#Se multiplica distancia2 por la cantidad de dias\n",
    "distancia2 *= dias\n",
    "print(distancia2)\n",
    "#resultado\n",
    "resultado = (distancia2/distancia1) * gasto\n",
    "print(resultado2)\n",
    "\n"
   ]
  },
  {
   "cell_type": "code",
   "execution_count": null,
   "metadata": {},
   "outputs": [],
   "source": []
  }
 ]
}